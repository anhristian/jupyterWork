{
 "cells": [
  {
   "cell_type": "code",
   "execution_count": 1,
   "metadata": {},
   "outputs": [],
   "source": [
    "def myfunc(x):\n",
    "    mystring= []  \n",
    "    \n",
    "    for i in range(len(x)):\n",
    "        if i%2==0:\n",
    "            mystring.append(x[i].lower())\n",
    "        else:\n",
    "            mystring.append(x[i].upper())\n",
    "    return ''.join(mystring)"
   ]
  },
  {
   "cell_type": "code",
   "execution_count": 2,
   "metadata": {},
   "outputs": [
    {
     "data": {
      "text/plain": [
       "'tHe wEaThEr iS NiCe aNd pLeAsAnT'"
      ]
     },
     "execution_count": 2,
     "metadata": {},
     "output_type": "execute_result"
    }
   ],
   "source": [
    "myfunc('The weather is nice and pleasant')"
   ]
  },
  {
   "cell_type": "code",
   "execution_count": 5,
   "metadata": {},
   "outputs": [],
   "source": [
    "# another solution for the problem\n",
    "\n",
    "\n",
    "def myfunc(s):\n",
    "    result='' # create the result container string\n",
    "    \n",
    "    for i,l in enumerate(s): #enum over the string i=index l=char in the returned tuple\n",
    "        if i%2==0: #check to see if the index is even with mod 2\n",
    "            result+=l.lower() #it's even. upper the char and append it to the result\n",
    "        else:\n",
    "            result+=l.upper() #it's odd. lower the char and append it to the result\n",
    "            \n",
    "    return result #gimme that result"
   ]
  },
  {
   "cell_type": "code",
   "execution_count": 6,
   "metadata": {},
   "outputs": [
    {
     "data": {
      "text/plain": [
       "'tHe wEaThEr iS NiCe aNd pLeAsAnT'"
      ]
     },
     "execution_count": 6,
     "metadata": {},
     "output_type": "execute_result"
    }
   ],
   "source": [
    "myfunc('The weather is nice and pleasant')"
   ]
  },
  {
   "cell_type": "code",
   "execution_count": 10,
   "metadata": {},
   "outputs": [],
   "source": [
    "# another solution\n",
    "\n",
    "def myfunc(word):\n",
    "    \n",
    "    new_string = ''\n",
    "    \n",
    "    for index,letter in enumerate(word):\n",
    "        \n",
    "        if index %2==0:\n",
    "            new_string += letter.lower()\n",
    "        else:\n",
    "            new_string += letter.upper()\n",
    "            \n",
    "    return new_string"
   ]
  },
  {
   "cell_type": "code",
   "execution_count": 11,
   "metadata": {},
   "outputs": [
    {
     "data": {
      "text/plain": [
       "'tHe wEaThEr iS NiCe aNd pLeAsAnT'"
      ]
     },
     "execution_count": 11,
     "metadata": {},
     "output_type": "execute_result"
    }
   ],
   "source": [
    "myfunc('The weather is nice and pleasant')"
   ]
  },
  {
   "cell_type": "code",
   "execution_count": null,
   "metadata": {},
   "outputs": [],
   "source": []
  }
 ],
 "metadata": {
  "kernelspec": {
   "display_name": "Python 3",
   "language": "python",
   "name": "python3"
  },
  "language_info": {
   "codemirror_mode": {
    "name": "ipython",
    "version": 3
   },
   "file_extension": ".py",
   "mimetype": "text/x-python",
   "name": "python",
   "nbconvert_exporter": "python",
   "pygments_lexer": "ipython3",
   "version": "3.8.5"
  }
 },
 "nbformat": 4,
 "nbformat_minor": 4
}
